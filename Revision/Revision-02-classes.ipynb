{
 "cells": [
  {
   "cell_type": "code",
   "execution_count": 87,
   "id": "718b9028",
   "metadata": {},
   "outputs": [],
   "source": [
    "class Course:\n",
    "    course_no=0\n",
    "    def __init__(self,x,y):\n",
    "        self.name=x\n",
    "        self.number=y\n",
    "        Course.course_no+=1\n",
    "        print(\"i am run now\")\n",
    "    def get_name(self):\n",
    "        print('Called in parent')\n",
    "        return self.name\n",
    "    def change_name(self,new):\n",
    "        self.name=new"
   ]
  },
  {
   "cell_type": "code",
   "execution_count": 88,
   "id": "dd15a5f8",
   "metadata": {},
   "outputs": [],
   "source": [
    "class CourseNew(Course):\n",
    "    def get_number(self):\n",
    "        return self.number\n",
    "    def get_name(self):\n",
    "        return 'New'+super().get_name()"
   ]
  },
  {
   "cell_type": "code",
   "execution_count": 89,
   "id": "47b58feb",
   "metadata": {},
   "outputs": [
    {
     "name": "stdout",
     "output_type": "stream",
     "text": [
      "i am run now\n"
     ]
    }
   ],
   "source": [
    "z= CourseNew('Testing',100)"
   ]
  },
  {
   "cell_type": "code",
   "execution_count": 90,
   "id": "d62d16ea",
   "metadata": {},
   "outputs": [
    {
     "name": "stdout",
     "output_type": "stream",
     "text": [
      "Called in parent\n"
     ]
    },
    {
     "data": {
      "text/plain": [
       "'NewTesting'"
      ]
     },
     "execution_count": 90,
     "metadata": {},
     "output_type": "execute_result"
    }
   ],
   "source": [
    "z.get_name()"
   ]
  },
  {
   "cell_type": "code",
   "execution_count": 76,
   "id": "bfc9fc65",
   "metadata": {},
   "outputs": [
    {
     "name": "stdout",
     "output_type": "stream",
     "text": [
      "i am run now\n"
     ]
    }
   ],
   "source": [
    "x=Course('Python',60)"
   ]
  },
  {
   "cell_type": "code",
   "execution_count": 77,
   "id": "4bdaade9",
   "metadata": {},
   "outputs": [
    {
     "data": {
      "text/plain": [
       "'Python'"
      ]
     },
     "execution_count": 77,
     "metadata": {},
     "output_type": "execute_result"
    }
   ],
   "source": [
    "x.get_name()"
   ]
  },
  {
   "cell_type": "code",
   "execution_count": 61,
   "id": "c6eedd86",
   "metadata": {},
   "outputs": [
    {
     "data": {
      "text/plain": [
       "13"
      ]
     },
     "execution_count": 61,
     "metadata": {},
     "output_type": "execute_result"
    }
   ],
   "source": [
    "x.course_no"
   ]
  },
  {
   "cell_type": "code",
   "execution_count": 46,
   "id": "f85b17d9",
   "metadata": {},
   "outputs": [
    {
     "name": "stdout",
     "output_type": "stream",
     "text": [
      "i am run now\n"
     ]
    }
   ],
   "source": [
    "y=Course('Stats',60)"
   ]
  },
  {
   "cell_type": "code",
   "execution_count": 47,
   "id": "b379ff27",
   "metadata": {},
   "outputs": [
    {
     "data": {
      "text/plain": [
       "2"
      ]
     },
     "execution_count": 47,
     "metadata": {},
     "output_type": "execute_result"
    }
   ],
   "source": [
    "y.course_no"
   ]
  },
  {
   "cell_type": "code",
   "execution_count": 48,
   "id": "88dec1c1",
   "metadata": {},
   "outputs": [
    {
     "data": {
      "text/plain": [
       "2"
      ]
     },
     "execution_count": 48,
     "metadata": {},
     "output_type": "execute_result"
    }
   ],
   "source": [
    "x.course_no"
   ]
  },
  {
   "cell_type": "code",
   "execution_count": 49,
   "id": "aa2450f7",
   "metadata": {},
   "outputs": [
    {
     "name": "stdout",
     "output_type": "stream",
     "text": [
      "i am run now\n"
     ]
    }
   ],
   "source": [
    "y=Course('regression',60)"
   ]
  },
  {
   "cell_type": "code",
   "execution_count": 50,
   "id": "e3be9a48",
   "metadata": {},
   "outputs": [
    {
     "name": "stdout",
     "output_type": "stream",
     "text": [
      "3 3 3\n"
     ]
    }
   ],
   "source": [
    "print(x.course_no,y.course_no,Course.course_no)"
   ]
  },
  {
   "cell_type": "code",
   "execution_count": 91,
   "id": "0d07fd85",
   "metadata": {},
   "outputs": [],
   "source": [
    "import numpy as np"
   ]
  },
  {
   "cell_type": "code",
   "execution_count": 101,
   "id": "16c37187",
   "metadata": {},
   "outputs": [],
   "source": [
    "x=np.array([1,2,3])\n",
    "y=np.array([10,20,30,40,50])"
   ]
  },
  {
   "cell_type": "code",
   "execution_count": 102,
   "id": "a1516205",
   "metadata": {},
   "outputs": [],
   "source": [
    "X,Y = np.meshgrid(x,y)"
   ]
  },
  {
   "cell_type": "code",
   "execution_count": 103,
   "id": "acacf3e4",
   "metadata": {},
   "outputs": [
    {
     "data": {
      "text/plain": [
       "array([[1, 2, 3],\n",
       "       [1, 2, 3],\n",
       "       [1, 2, 3],\n",
       "       [1, 2, 3],\n",
       "       [1, 2, 3]])"
      ]
     },
     "execution_count": 103,
     "metadata": {},
     "output_type": "execute_result"
    }
   ],
   "source": [
    "X"
   ]
  },
  {
   "cell_type": "code",
   "execution_count": 104,
   "id": "c245ceed",
   "metadata": {},
   "outputs": [
    {
     "data": {
      "text/plain": [
       "array([[10, 10, 10],\n",
       "       [20, 20, 20],\n",
       "       [30, 30, 30],\n",
       "       [40, 40, 40],\n",
       "       [50, 50, 50]])"
      ]
     },
     "execution_count": 104,
     "metadata": {},
     "output_type": "execute_result"
    }
   ],
   "source": [
    "Y"
   ]
  },
  {
   "cell_type": "code",
   "execution_count": null,
   "id": "bbe86119",
   "metadata": {},
   "outputs": [],
   "source": []
  }
 ],
 "metadata": {
  "kernelspec": {
   "display_name": "Python 3 (ipykernel)",
   "language": "python",
   "name": "python3"
  },
  "language_info": {
   "codemirror_mode": {
    "name": "ipython",
    "version": 3
   },
   "file_extension": ".py",
   "mimetype": "text/x-python",
   "name": "python",
   "nbconvert_exporter": "python",
   "pygments_lexer": "ipython3",
   "version": "3.11.1"
  }
 },
 "nbformat": 4,
 "nbformat_minor": 5
}
