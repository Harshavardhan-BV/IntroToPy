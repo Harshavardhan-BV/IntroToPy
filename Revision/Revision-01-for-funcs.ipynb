{
 "cells": [
  {
   "cell_type": "code",
   "execution_count": 2,
   "id": "3fe53b93",
   "metadata": {},
   "outputs": [
    {
     "name": "stdout",
     "output_type": "stream",
     "text": [
      "1\n",
      "2\n",
      "a\n",
      "b\n",
      "5\n"
     ]
    }
   ],
   "source": [
    "x=[1,2,\"a\",\"b\",5]\n",
    "for i in x:\n",
    "    print(i)"
   ]
  },
  {
   "cell_type": "code",
   "execution_count": 11,
   "id": "7ed7dc82",
   "metadata": {},
   "outputs": [
    {
     "name": "stdout",
     "output_type": "stream",
     "text": [
      "i= 0\n",
      "j= 0\n",
      "i= 1\n",
      "j= 0\n",
      "j= 1\n",
      "i= 2\n",
      "j= 0\n",
      "j= 1\n",
      "j= 2\n",
      "i= 3\n",
      "j= 0\n",
      "j= 1\n",
      "j= 2\n",
      "j= 3\n",
      "i= 4\n",
      "j= 0\n",
      "j= 1\n",
      "j= 2\n",
      "j= 3\n",
      "j= 4\n",
      "i= 5\n",
      "j= 0\n",
      "j= 1\n",
      "j= 2\n",
      "j= 3\n",
      "j= 4\n",
      "j= 5\n",
      "i= 6\n",
      "j= 0\n",
      "j= 1\n",
      "j= 2\n",
      "j= 3\n",
      "j= 4\n",
      "j= 5\n",
      "j= 6\n",
      "i= 7\n",
      "j= 0\n",
      "j= 1\n",
      "j= 2\n",
      "j= 3\n",
      "j= 4\n",
      "j= 5\n",
      "j= 6\n",
      "j= 7\n",
      "i= 8\n",
      "j= 0\n",
      "j= 1\n",
      "j= 2\n",
      "j= 3\n",
      "j= 4\n",
      "j= 5\n",
      "j= 6\n",
      "j= 7\n",
      "j= 8\n",
      "i= 9\n",
      "j= 0\n",
      "j= 1\n",
      "j= 2\n",
      "j= 3\n",
      "j= 4\n",
      "j= 5\n",
      "j= 6\n",
      "j= 7\n",
      "j= 8\n",
      "j= 9\n"
     ]
    }
   ],
   "source": [
    "x=10\n",
    "for i in range(x):\n",
    "    print('i=',i)\n",
    "    for j in range(i+1):\n",
    "        print('j=',j)"
   ]
  },
  {
   "cell_type": "code",
   "execution_count": 7,
   "id": "b9e559ba",
   "metadata": {},
   "outputs": [
    {
     "name": "stdout",
     "output_type": "stream",
     "text": [
      "1\n",
      "2\n",
      "3\n",
      "4\n",
      "5\n",
      "6\n",
      "7\n",
      "8\n",
      "9\n",
      "10\n",
      "11\n",
      "12\n",
      "13\n",
      "14\n",
      "15\n",
      "16\n",
      "17\n",
      "18\n",
      "19\n",
      "20\n",
      "21\n",
      "22\n",
      "23\n",
      "24\n",
      "25\n",
      "26\n",
      "27\n",
      "28\n",
      "29\n",
      "30\n",
      "31\n",
      "32\n",
      "33\n",
      "34\n"
     ]
    }
   ],
   "source": [
    "for i in range(1,51):\n",
    "    if (i%5==0) and (i%7==0):\n",
    "        break\n",
    "    elif(i%5==0):\n",
    "        pass\n",
    "    elif(i%7==0):\n",
    "        pass\n",
    "    print(i)"
   ]
  },
  {
   "cell_type": "code",
   "execution_count": 50,
   "id": "d058ef1f",
   "metadata": {},
   "outputs": [
    {
     "name": "stdout",
     "output_type": "stream",
     "text": [
      "hloo another\n",
      "another\n"
     ]
    }
   ],
   "source": [
    "def hloo():\n",
    "    global a\n",
    "    a='another'\n",
    "    print('hloo '+a)\n",
    "\n",
    "a='something'\n",
    "hloo()\n",
    "print(a)"
   ]
  },
  {
   "cell_type": "code",
   "execution_count": 45,
   "id": "5f25e1d8",
   "metadata": {},
   "outputs": [
    {
     "name": "stdout",
     "output_type": "stream",
     "text": [
      "hloo something\n"
     ]
    }
   ],
   "source": [
    "def hloo():\n",
    "    print('hloo '+a)\n",
    "\n",
    "a='something'\n",
    "hloo()"
   ]
  },
  {
   "cell_type": "code",
   "execution_count": 37,
   "id": "3113bf14",
   "metadata": {},
   "outputs": [
    {
     "name": "stdout",
     "output_type": "stream",
     "text": [
      "1\n"
     ]
    }
   ],
   "source": [
    "def prin2(a):\n",
    "    print(a)\n",
    "\n",
    "prin2(1)"
   ]
  },
  {
   "cell_type": "code",
   "execution_count": null,
   "id": "a5f61482",
   "metadata": {},
   "outputs": [],
   "source": [
    "def rec():\n",
    "    rec()"
   ]
  },
  {
   "cell_type": "code",
   "execution_count": 38,
   "id": "3dd45e24",
   "metadata": {},
   "outputs": [],
   "source": [
    "def sum_n(n):\n",
    "    if n<=0:\n",
    "        return 0\n",
    "    else:\n",
    "        return n+sum_n(n-1)"
   ]
  },
  {
   "cell_type": "code",
   "execution_count": 39,
   "id": "5cc9b1ac",
   "metadata": {},
   "outputs": [
    {
     "data": {
      "text/plain": [
       "55"
      ]
     },
     "execution_count": 39,
     "metadata": {},
     "output_type": "execute_result"
    }
   ],
   "source": [
    "sum_n(10)"
   ]
  },
  {
   "cell_type": "code",
   "execution_count": 42,
   "id": "5848689f",
   "metadata": {},
   "outputs": [
    {
     "data": {
      "text/plain": [
       "3"
      ]
     },
     "execution_count": 42,
     "metadata": {},
     "output_type": "execute_result"
    }
   ],
   "source": [
    "sum_n(2)"
   ]
  },
  {
   "cell_type": "code",
   "execution_count": null,
   "id": "eba103f6",
   "metadata": {},
   "outputs": [],
   "source": []
  }
 ],
 "metadata": {
  "kernelspec": {
   "display_name": "Python 3 (ipykernel)",
   "language": "python",
   "name": "python3"
  },
  "language_info": {
   "codemirror_mode": {
    "name": "ipython",
    "version": 3
   },
   "file_extension": ".py",
   "mimetype": "text/x-python",
   "name": "python",
   "nbconvert_exporter": "python",
   "pygments_lexer": "ipython3",
   "version": "3.11.1"
  }
 },
 "nbformat": 4,
 "nbformat_minor": 5
}
