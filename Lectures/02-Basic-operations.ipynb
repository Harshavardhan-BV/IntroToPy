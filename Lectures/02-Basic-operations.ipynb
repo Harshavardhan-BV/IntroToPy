{
 "cells": [
  {
   "attachments": {},
   "cell_type": "markdown",
   "id": "b4405636",
   "metadata": {},
   "source": [
    "# Lecture 2\n",
    "## Basic Operations\n",
    "\n",
    "Similar to the functionality of R markdown, we can have both text and code in this notebook. The text part uses a **simple** _markdown_ formatting (Hint: Whatsapp text formatting). You can export this notebook as HTML or PDF.\n",
    "\n",
    "The codes are present in cells, and you can run them separately. The outputs are also stored in the jupyter and this can be useful for sharing with others."
   ]
  },
  {
   "attachments": {},
   "cell_type": "markdown",
   "id": "d1c2457c",
   "metadata": {},
   "source": [
    "### Jupyter basics\n",
    "Let us run the first and most important command in any programming language. Run the cell by using Shift+Enter"
   ]
  },
  {
   "cell_type": "code",
   "execution_count": 1,
   "id": "9eb4284a",
   "metadata": {},
   "outputs": [
    {
     "name": "stdout",
     "output_type": "stream",
     "text": [
      "Hello world\n"
     ]
    }
   ],
   "source": [
    "print('Hello world')"
   ]
  },
  {
   "attachments": {},
   "cell_type": "markdown",
   "id": "6f46080e",
   "metadata": {},
   "source": [
    "Congratulation! You're a python programmer now. Did you notice that the cursor has gone to the next cell? Now try running the previous command with Ctrl+Enter. What did you observe?"
   ]
  },
  {
   "attachments": {},
   "cell_type": "markdown",
   "id": "2c25c671",
   "metadata": {},
   "source": [
    "If we have multiple commands in a cell, they are executed together"
   ]
  },
  {
   "cell_type": "code",
   "execution_count": 2,
   "id": "0504860d",
   "metadata": {},
   "outputs": [
    {
     "name": "stdout",
     "output_type": "stream",
     "text": [
      "This is printed\n",
      "This is also printed\n"
     ]
    }
   ],
   "source": [
    "print(\"This is printed\")\n",
    "print(\"This is also printed\")"
   ]
  },
  {
   "attachments": {},
   "cell_type": "markdown",
   "id": "2d9e6c13",
   "metadata": {},
   "source": [
    "We can also add or delete cells. Try to delete the following (erroneous cell) and add a new cell in its stead."
   ]
  },
  {
   "cell_type": "code",
   "execution_count": 3,
   "id": "b57d1a93",
   "metadata": {},
   "outputs": [
    {
     "ename": "NameError",
     "evalue": "name 'error' is not defined",
     "output_type": "error",
     "traceback": [
      "\u001b[0;31m---------------------------------------------------------------------------\u001b[0m",
      "\u001b[0;31mNameError\u001b[0m                                 Traceback (most recent call last)",
      "Cell \u001b[0;32mIn[3], line 2\u001b[0m\n\u001b[1;32m      1\u001b[0m \u001b[39m# delete me\u001b[39;00m\n\u001b[0;32m----> 2\u001b[0m error\n",
      "\u001b[0;31mNameError\u001b[0m: name 'error' is not defined"
     ]
    }
   ],
   "source": [
    "# delete me\n",
    "error"
   ]
  },
  {
   "attachments": {},
   "cell_type": "markdown",
   "id": "5ba2bec8",
   "metadata": {},
   "source": [
    "Jupyter also has autocomplete functionality. Try by pressing Tab in the following cell. If you have more than one command with autocomplete, you can select the one you want with arrow keys and then press enter."
   ]
  },
  {
   "cell_type": "code",
   "execution_count": null,
   "id": "0c20d0bc",
   "metadata": {},
   "outputs": [],
   "source": [
    "pri"
   ]
  },
  {
   "attachments": {},
   "cell_type": "markdown",
   "id": "c542c831",
   "metadata": {},
   "source": [
    "We can also search for the documentation of a particular command. You'll have to append `?` to the end of your function. Try it in the following cell. "
   ]
  },
  {
   "cell_type": "code",
   "execution_count": 4,
   "id": "53d562bb",
   "metadata": {},
   "outputs": [
    {
     "name": "stdout",
     "output_type": "stream",
     "text": [
      "\u001b[0;31mSignature:\u001b[0m \u001b[0mprint\u001b[0m\u001b[0;34m(\u001b[0m\u001b[0;34m*\u001b[0m\u001b[0margs\u001b[0m\u001b[0;34m,\u001b[0m \u001b[0msep\u001b[0m\u001b[0;34m=\u001b[0m\u001b[0;34m' '\u001b[0m\u001b[0;34m,\u001b[0m \u001b[0mend\u001b[0m\u001b[0;34m=\u001b[0m\u001b[0;34m'\\n'\u001b[0m\u001b[0;34m,\u001b[0m \u001b[0mfile\u001b[0m\u001b[0;34m=\u001b[0m\u001b[0;32mNone\u001b[0m\u001b[0;34m,\u001b[0m \u001b[0mflush\u001b[0m\u001b[0;34m=\u001b[0m\u001b[0;32mFalse\u001b[0m\u001b[0;34m)\u001b[0m\u001b[0;34m\u001b[0m\u001b[0;34m\u001b[0m\u001b[0m\n",
      "\u001b[0;31mDocstring:\u001b[0m\n",
      "Prints the values to a stream, or to sys.stdout by default.\n",
      "\n",
      "sep\n",
      "  string inserted between values, default a space.\n",
      "end\n",
      "  string appended after the last value, default a newline.\n",
      "file\n",
      "  a file-like object (stream); defaults to the current sys.stdout.\n",
      "flush\n",
      "  whether to forcibly flush the stream.\n",
      "\u001b[0;31mType:\u001b[0m      builtin_function_or_method"
     ]
    }
   ],
   "source": [
    "print?"
   ]
  },
  {
   "attachments": {},
   "cell_type": "markdown",
   "id": "9f3f7584",
   "metadata": {},
   "source": [
    "Remember pip, we can invoke that command inside the jupyter notebook as well"
   ]
  },
  {
   "cell_type": "code",
   "execution_count": 5,
   "id": "8cf7e0d2",
   "metadata": {},
   "outputs": [
    {
     "name": "stdout",
     "output_type": "stream",
     "text": [
      "Requirement already satisfied: pip in /home/bv/pyenv/MSR/lib64/python3.11/site-packages (22.3.1)\n",
      "Note: you may need to restart the kernel to use updated packages.\n"
     ]
    }
   ],
   "source": [
    "%pip install pip"
   ]
  },
  {
   "attachments": {},
   "cell_type": "markdown",
   "id": "e7e7475e",
   "metadata": {},
   "source": [
    "We can also run any commands in a regular terminal by prepending it with `%`. Here, we will list all files in the directory with `ls`. Note: If it does not work on windows try `%dir` instead."
   ]
  },
  {
   "cell_type": "code",
   "execution_count": 6,
   "id": "3d0ed6a2",
   "metadata": {},
   "outputs": [
    {
     "name": "stdout",
     "output_type": "stream",
     "text": [
      "01-Installation.md  02-Basic-operations.ipynb\n"
     ]
    }
   ],
   "source": [
    "%ls"
   ]
  },
  {
   "cell_type": "code",
   "execution_count": 7,
   "id": "9f3d2ac8",
   "metadata": {},
   "outputs": [],
   "source": [
    "#hmmmm"
   ]
  },
  {
   "attachments": {},
   "cell_type": "markdown",
   "id": "4f1130eb",
   "metadata": {},
   "source": [
    "Nothing happened when we ran the previous command. These are comments, which are ignored by python. It is good practice to add them for better readability of the code. However, since we have markdown with jupyter notebook, we can use it instead."
   ]
  },
  {
   "attachments": {},
   "cell_type": "markdown",
   "id": "6c2cb46c",
   "metadata": {},
   "source": [
    "We can also clear outputs or restart the kernel if we wish"
   ]
  },
  {
   "attachments": {},
   "cell_type": "markdown",
   "id": "6e21cd0c",
   "metadata": {},
   "source": [
    "### Variables\n",
    "Variables are like storage boxes to put some value "
   ]
  },
  {
   "attachments": {},
   "cell_type": "markdown",
   "id": "097f079f",
   "metadata": {},
   "source": [
    "\n",
    "Let us declare a variable word to store our value"
   ]
  },
  {
   "cell_type": "code",
   "execution_count": 8,
   "id": "00cb2c1f",
   "metadata": {},
   "outputs": [],
   "source": [
    "word='Hello world'"
   ]
  },
  {
   "attachments": {},
   "cell_type": "markdown",
   "id": "a2ccdae3",
   "metadata": {},
   "source": [
    "And now we can print the word"
   ]
  },
  {
   "cell_type": "code",
   "execution_count": 9,
   "id": "098d8ce6",
   "metadata": {},
   "outputs": [
    {
     "name": "stdout",
     "output_type": "stream",
     "text": [
      "Hello world\n"
     ]
    }
   ],
   "source": [
    "print(word)"
   ]
  },
  {
   "attachments": {},
   "cell_type": "markdown",
   "id": "bdd505f9",
   "metadata": {},
   "source": [
    "By default, typing the variable name in jupyter would print it"
   ]
  },
  {
   "cell_type": "code",
   "execution_count": 10,
   "id": "93cbbdea",
   "metadata": {},
   "outputs": [
    {
     "data": {
      "text/plain": [
       "'Hello world'"
      ]
     },
     "execution_count": 10,
     "metadata": {},
     "output_type": "execute_result"
    }
   ],
   "source": [
    "word"
   ]
  },
  {
   "attachments": {},
   "cell_type": "markdown",
   "id": "a4772a5f",
   "metadata": {},
   "source": [
    "But if we type two variables in a cell, only the last one is printed."
   ]
  },
  {
   "cell_type": "code",
   "execution_count": 11,
   "id": "1109ef46",
   "metadata": {},
   "outputs": [
    {
     "data": {
      "text/plain": [
       "'No Hello for you'"
      ]
     },
     "execution_count": 11,
     "metadata": {},
     "output_type": "execute_result"
    }
   ],
   "source": [
    "another='No Hello for you'\n",
    "word\n",
    "another"
   ]
  },
  {
   "attachments": {},
   "cell_type": "markdown",
   "id": "c9c01f78",
   "metadata": {},
   "source": [
    "We can also declare a variable from the value of another variable."
   ]
  },
  {
   "cell_type": "code",
   "execution_count": 12,
   "id": "316c442b",
   "metadata": {},
   "outputs": [
    {
     "name": "stdout",
     "output_type": "stream",
     "text": [
      "Hello world\n"
     ]
    }
   ],
   "source": [
    "another=word\n",
    "print(another)"
   ]
  },
  {
   "attachments": {},
   "cell_type": "markdown",
   "id": "d92110f8",
   "metadata": {},
   "source": [
    "## Operators\n",
    "### Arithmetic\n",
    "Arithmetic operators are the basic mathematical operations you would do. Let us use python as a glorified calculator."
   ]
  },
  {
   "attachments": {},
   "cell_type": "markdown",
   "id": "ca817742",
   "metadata": {},
   "source": [
    "Addition"
   ]
  },
  {
   "cell_type": "code",
   "execution_count": 13,
   "id": "3be219ad",
   "metadata": {},
   "outputs": [
    {
     "data": {
      "text/plain": [
       "4"
      ]
     },
     "execution_count": 13,
     "metadata": {},
     "output_type": "execute_result"
    }
   ],
   "source": [
    "2+2\n"
   ]
  },
  {
   "attachments": {},
   "cell_type": "markdown",
   "id": "f6688cf2",
   "metadata": {},
   "source": [
    "Subtraction"
   ]
  },
  {
   "cell_type": "code",
   "execution_count": 14,
   "id": "3b770887",
   "metadata": {},
   "outputs": [
    {
     "data": {
      "text/plain": [
       "3"
      ]
     },
     "execution_count": 14,
     "metadata": {},
     "output_type": "execute_result"
    }
   ],
   "source": [
    "4-1"
   ]
  },
  {
   "attachments": {},
   "cell_type": "markdown",
   "id": "f28856d8",
   "metadata": {},
   "source": [
    "Multiplication"
   ]
  },
  {
   "cell_type": "code",
   "execution_count": 15,
   "id": "678d4ecb",
   "metadata": {},
   "outputs": [
    {
     "data": {
      "text/plain": [
       "54"
      ]
     },
     "execution_count": 15,
     "metadata": {},
     "output_type": "execute_result"
    }
   ],
   "source": [
    "6*9"
   ]
  },
  {
   "attachments": {},
   "cell_type": "markdown",
   "id": "1550b7f2",
   "metadata": {},
   "source": [
    "Division"
   ]
  },
  {
   "cell_type": "code",
   "execution_count": 16,
   "id": "221e35c7",
   "metadata": {},
   "outputs": [
    {
     "data": {
      "text/plain": [
       "31.833333333333332"
      ]
     },
     "execution_count": 16,
     "metadata": {},
     "output_type": "execute_result"
    }
   ],
   "source": [
    "1337/42"
   ]
  },
  {
   "cell_type": "code",
   "execution_count": 17,
   "id": "62e06572",
   "metadata": {},
   "outputs": [
    {
     "ename": "ZeroDivisionError",
     "evalue": "division by zero",
     "output_type": "error",
     "traceback": [
      "\u001b[0;31m---------------------------------------------------------------------------\u001b[0m",
      "\u001b[0;31mZeroDivisionError\u001b[0m                         Traceback (most recent call last)",
      "Cell \u001b[0;32mIn[17], line 1\u001b[0m\n\u001b[0;32m----> 1\u001b[0m \u001b[39m1\u001b[39;49m\u001b[39m/\u001b[39;49m\u001b[39m0\u001b[39;49m\n",
      "\u001b[0;31mZeroDivisionError\u001b[0m: division by zero"
     ]
    }
   ],
   "source": [
    "1/0"
   ]
  },
  {
   "attachments": {},
   "cell_type": "markdown",
   "id": "54cb6699",
   "metadata": {},
   "source": [
    "But, what if we don't want decimals with division, we use floor division"
   ]
  },
  {
   "cell_type": "code",
   "execution_count": 18,
   "id": "5d7e7b43",
   "metadata": {},
   "outputs": [
    {
     "data": {
      "text/plain": [
       "31"
      ]
     },
     "execution_count": 18,
     "metadata": {},
     "output_type": "execute_result"
    }
   ],
   "source": [
    "1337//42"
   ]
  },
  {
   "attachments": {},
   "cell_type": "markdown",
   "id": "64f08736",
   "metadata": {},
   "source": [
    "We can also get the reminder with modulo"
   ]
  },
  {
   "cell_type": "code",
   "execution_count": 19,
   "id": "e5fb8997",
   "metadata": {},
   "outputs": [
    {
     "data": {
      "text/plain": [
       "35"
      ]
     },
     "execution_count": 19,
     "metadata": {},
     "output_type": "execute_result"
    }
   ],
   "source": [
    "1337%42"
   ]
  },
  {
   "attachments": {},
   "cell_type": "markdown",
   "id": "e8e694a4",
   "metadata": {},
   "source": [
    "Note that power is `**` in python"
   ]
  },
  {
   "cell_type": "code",
   "execution_count": 20,
   "id": "ffdfaad2",
   "metadata": {},
   "outputs": [
    {
     "data": {
      "text/plain": [
       "9"
      ]
     },
     "execution_count": 20,
     "metadata": {},
     "output_type": "execute_result"
    }
   ],
   "source": [
    "3**2"
   ]
  },
  {
   "attachments": {},
   "cell_type": "markdown",
   "id": "92c719ed",
   "metadata": {},
   "source": [
    "Try to find the order of operations"
   ]
  },
  {
   "cell_type": "code",
   "execution_count": 23,
   "id": "383d8711",
   "metadata": {},
   "outputs": [
    {
     "data": {
      "text/plain": [
       "80.0"
      ]
     },
     "execution_count": 23,
     "metadata": {},
     "output_type": "execute_result"
    }
   ],
   "source": [
    "(2**2+2/2-1)*4/2*10"
   ]
  },
  {
   "attachments": {},
   "cell_type": "markdown",
   "id": "df37a383",
   "metadata": {},
   "source": [
    "What about `//`"
   ]
  },
  {
   "cell_type": "code",
   "execution_count": 24,
   "id": "426b1375",
   "metadata": {},
   "outputs": [
    {
     "data": {
      "text/plain": [
       "0"
      ]
     },
     "execution_count": 24,
     "metadata": {},
     "output_type": "execute_result"
    }
   ],
   "source": [
    "1//2*1"
   ]
  },
  {
   "attachments": {},
   "cell_type": "markdown",
   "id": "04cec57e",
   "metadata": {},
   "source": [
    "We can also add strings (text)"
   ]
  },
  {
   "cell_type": "code",
   "execution_count": 25,
   "id": "2ec67d37",
   "metadata": {},
   "outputs": [
    {
     "data": {
      "text/plain": [
       "'Harshavardhan'"
      ]
     },
     "execution_count": 25,
     "metadata": {},
     "output_type": "execute_result"
    }
   ],
   "source": [
    "'Harsha'+'vardhan'"
   ]
  },
  {
   "attachments": {},
   "cell_type": "markdown",
   "id": "133f958f",
   "metadata": {},
   "source": [
    "But other operations are not supported. You can try them out."
   ]
  },
  {
   "cell_type": "code",
   "execution_count": 26,
   "id": "6073503e",
   "metadata": {},
   "outputs": [
    {
     "ename": "TypeError",
     "evalue": "unsupported operand type(s) for -: 'str' and 'str'",
     "output_type": "error",
     "traceback": [
      "\u001b[0;31m---------------------------------------------------------------------------\u001b[0m",
      "\u001b[0;31mTypeError\u001b[0m                                 Traceback (most recent call last)",
      "Cell \u001b[0;32mIn[26], line 1\u001b[0m\n\u001b[0;32m----> 1\u001b[0m \u001b[39m'\u001b[39;49m\u001b[39mHarsha\u001b[39;49m\u001b[39m'\u001b[39;49m\u001b[39m-\u001b[39;49m\u001b[39m'\u001b[39;49m\u001b[39mVardhan\u001b[39;49m\u001b[39m'\u001b[39;49m\n",
      "\u001b[0;31mTypeError\u001b[0m: unsupported operand type(s) for -: 'str' and 'str'"
     ]
    }
   ],
   "source": [
    "'Harsha'-'Vardhan'"
   ]
  },
  {
   "attachments": {},
   "cell_type": "markdown",
   "id": "4c603f4d",
   "metadata": {},
   "source": [
    "### Relational\n",
    "Relational operators are used to compare between two values"
   ]
  },
  {
   "cell_type": "code",
   "execution_count": 27,
   "id": "7b55a3cf",
   "metadata": {},
   "outputs": [
    {
     "data": {
      "text/plain": [
       "False"
      ]
     },
     "execution_count": 27,
     "metadata": {},
     "output_type": "execute_result"
    }
   ],
   "source": [
    "1>2"
   ]
  },
  {
   "cell_type": "code",
   "execution_count": 28,
   "id": "856b640e",
   "metadata": {},
   "outputs": [
    {
     "data": {
      "text/plain": [
       "True"
      ]
     },
     "execution_count": 28,
     "metadata": {},
     "output_type": "execute_result"
    }
   ],
   "source": [
    "(1+1)<=2"
   ]
  },
  {
   "attachments": {},
   "cell_type": "markdown",
   "id": "1474f9da",
   "metadata": {},
   "source": [
    "We can also compare strings."
   ]
  },
  {
   "cell_type": "code",
   "execution_count": 29,
   "id": "6307486d",
   "metadata": {},
   "outputs": [
    {
     "data": {
      "text/plain": [
       "True"
      ]
     },
     "execution_count": 29,
     "metadata": {},
     "output_type": "execute_result"
    }
   ],
   "source": [
    "'Python'=='Python'"
   ]
  },
  {
   "cell_type": "code",
   "execution_count": 30,
   "id": "811264c9",
   "metadata": {},
   "outputs": [
    {
     "data": {
      "text/plain": [
       "True"
      ]
     },
     "execution_count": 30,
     "metadata": {},
     "output_type": "execute_result"
    }
   ],
   "source": [
    "'Python'!='R'"
   ]
  },
  {
   "cell_type": "code",
   "execution_count": 31,
   "id": "3689d813",
   "metadata": {},
   "outputs": [
    {
     "data": {
      "text/plain": [
       "True"
      ]
     },
     "execution_count": 31,
     "metadata": {},
     "output_type": "execute_result"
    }
   ],
   "source": [
    "'Python'<'R'"
   ]
  },
  {
   "attachments": {},
   "cell_type": "markdown",
   "id": "6b52f494",
   "metadata": {},
   "source": [
    "### Logical"
   ]
  },
  {
   "cell_type": "code",
   "execution_count": 32,
   "id": "ba5c797f",
   "metadata": {},
   "outputs": [
    {
     "data": {
      "text/plain": [
       "True"
      ]
     },
     "execution_count": 32,
     "metadata": {},
     "output_type": "execute_result"
    }
   ],
   "source": [
    "x=1\n",
    "(x>2) or (x<2)"
   ]
  },
  {
   "cell_type": "code",
   "execution_count": 33,
   "id": "8532a184",
   "metadata": {},
   "outputs": [
    {
     "data": {
      "text/plain": [
       "True"
      ]
     },
     "execution_count": 33,
     "metadata": {},
     "output_type": "execute_result"
    }
   ],
   "source": [
    "(x<2) and (x>-1)"
   ]
  },
  {
   "cell_type": "code",
   "execution_count": 34,
   "id": "c8641101",
   "metadata": {},
   "outputs": [
    {
     "data": {
      "text/plain": [
       "False"
      ]
     },
     "execution_count": 34,
     "metadata": {},
     "output_type": "execute_result"
    }
   ],
   "source": [
    "not (x==1)"
   ]
  },
  {
   "attachments": {},
   "cell_type": "markdown",
   "id": "bce6adf3",
   "metadata": {},
   "source": [
    "### Assignment\n",
    "We have already seen the assignment operator when we declared variables"
   ]
  },
  {
   "cell_type": "code",
   "execution_count": 35,
   "id": "331a2040",
   "metadata": {},
   "outputs": [
    {
     "name": "stdout",
     "output_type": "stream",
     "text": [
      "1\n"
     ]
    }
   ],
   "source": [
    "x=1\n",
    "print(x)"
   ]
  },
  {
   "attachments": {},
   "cell_type": "markdown",
   "id": "20e96f75",
   "metadata": {},
   "source": [
    "But assignment operator can also be combined with arithmetic operators"
   ]
  },
  {
   "cell_type": "code",
   "execution_count": 36,
   "id": "7c1da268",
   "metadata": {},
   "outputs": [
    {
     "name": "stdout",
     "output_type": "stream",
     "text": [
      "2\n"
     ]
    }
   ],
   "source": [
    "x+=1\n",
    "print(x)"
   ]
  },
  {
   "cell_type": "code",
   "execution_count": null,
   "id": "4bbc3cfa",
   "metadata": {},
   "outputs": [],
   "source": []
  }
 ],
 "metadata": {
  "kernelspec": {
   "display_name": "MSR",
   "language": "python",
   "name": "python3"
  },
  "language_info": {
   "codemirror_mode": {
    "name": "ipython",
    "version": 3
   },
   "file_extension": ".py",
   "mimetype": "text/x-python",
   "name": "python",
   "nbconvert_exporter": "python",
   "pygments_lexer": "ipython3",
   "version": "3.11.1"
  },
  "vscode": {
   "interpreter": {
    "hash": "d58490c47f2d70e7dc3e17a1efc5ca3f9b97b287cec78396549ed591aac5e019"
   }
  }
 },
 "nbformat": 4,
 "nbformat_minor": 5
}
