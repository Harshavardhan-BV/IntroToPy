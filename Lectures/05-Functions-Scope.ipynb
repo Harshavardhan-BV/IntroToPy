{
 "cells": [
  {
   "attachments": {},
   "cell_type": "markdown",
   "metadata": {},
   "source": [
    "# Lecture 5\n",
    "\n",
    "## Functions and Scope\n"
   ]
  },
  {
   "attachments": {},
   "cell_type": "markdown",
   "metadata": {},
   "source": [
    "### Defining functions\n",
    "Functions are basically blocks of code that are run when we call that function. We use `def` to define functions."
   ]
  },
  {
   "cell_type": "code",
   "execution_count": 1,
   "metadata": {},
   "outputs": [
    {
     "name": "stdout",
     "output_type": "stream",
     "text": [
      "hello\n"
     ]
    }
   ],
   "source": [
    "def function_name():\n",
    "    print('hello')\n",
    "\n",
    "function_name()"
   ]
  },
  {
   "attachments": {},
   "cell_type": "markdown",
   "metadata": {},
   "source": [
    "But where would functions be useful?"
   ]
  },
  {
   "cell_type": "code",
   "execution_count": 2,
   "metadata": {},
   "outputs": [
    {
     "name": "stdout",
     "output_type": "stream",
     "text": [
      "Good morning students of CC 4, Welcome to a class on python\n",
      "Good morning students of CC 4, Welcome to a class on python\n",
      "Good morning students of CC 4, Welcome to a class on python\n"
     ]
    }
   ],
   "source": [
    "def welcome():\n",
    "    x='students of CC 4'\n",
    "    x='Good morning '+x+', Welcome to a class on python'\n",
    "    print(x)\n",
    "\n",
    "welcome()\n",
    "welcome()\n",
    "welcome()"
   ]
  },
  {
   "attachments": {},
   "cell_type": "markdown",
   "metadata": {},
   "source": [
    "If we want to leave a function blank we can use the pass function"
   ]
  },
  {
   "cell_type": "code",
   "execution_count": 3,
   "metadata": {},
   "outputs": [],
   "source": [
    "def f():\n",
    "    pass\n",
    "\n",
    "f()"
   ]
  },
  {
   "attachments": {},
   "cell_type": "markdown",
   "metadata": {},
   "source": [
    "### Passing arguments\n",
    "\n",
    "Arguments are inputs given to a function. Inside the function they are called parameters."
   ]
  },
  {
   "cell_type": "code",
   "execution_count": 4,
   "metadata": {},
   "outputs": [
    {
     "name": "stdout",
     "output_type": "stream",
     "text": [
      "Good morning Students of CC 4, Welcome to a class on python\n"
     ]
    }
   ],
   "source": [
    "def welcome(x):\n",
    "    x='Good morning '+x+', Welcome to a class on python'\n",
    "    print(x)\n",
    "\n",
    "welcome('Students of CC 4')"
   ]
  },
  {
   "attachments": {},
   "cell_type": "markdown",
   "metadata": {},
   "source": [
    "We can also pass multiple arguments to a function. By default, they are positional. "
   ]
  },
  {
   "cell_type": "code",
   "execution_count": 5,
   "metadata": {},
   "outputs": [
    {
     "name": "stdout",
     "output_type": "stream",
     "text": [
      "Good morning Students of CC4, Welcome to a class on Python\n",
      "Good morning Python, Welcome to a class on Students of CC4\n"
     ]
    }
   ],
   "source": [
    "def welcome(who,what):\n",
    "    x='Good morning '+who+', Welcome to a class on '+what\n",
    "    print(x)\n",
    "\n",
    "welcome('Students of CC4','Python')\n",
    "welcome('Python','Students of CC4')"
   ]
  },
  {
   "attachments": {},
   "cell_type": "markdown",
   "metadata": {},
   "source": [
    "But we can use also use \"keyword arguments\"."
   ]
  },
  {
   "cell_type": "code",
   "execution_count": 6,
   "metadata": {},
   "outputs": [
    {
     "name": "stdout",
     "output_type": "stream",
     "text": [
      "Good morning Students of CC4, Welcome to a class on Python\n"
     ]
    }
   ],
   "source": [
    "def welcome(who,what):\n",
    "    x='Good morning '+who+', Welcome to a class on '+what\n",
    "    print(x)\n",
    "\n",
    "welcome(what='Python',who='Students of CC4')"
   ]
  },
  {
   "attachments": {},
   "cell_type": "markdown",
   "metadata": {},
   "source": [
    "We need to pass the exact number of defined arguments to a function."
   ]
  },
  {
   "cell_type": "code",
   "execution_count": 7,
   "metadata": {},
   "outputs": [
    {
     "ename": "TypeError",
     "evalue": "welcome() missing 1 required positional argument: 'what'",
     "output_type": "error",
     "traceback": [
      "\u001b[0;31m---------------------------------------------------------------------------\u001b[0m",
      "\u001b[0;31mTypeError\u001b[0m                                 Traceback (most recent call last)",
      "Cell \u001b[0;32mIn[7], line 1\u001b[0m\n\u001b[0;32m----> 1\u001b[0m welcome(who\u001b[39m=\u001b[39;49m\u001b[39m'\u001b[39;49m\u001b[39mStudents\u001b[39;49m\u001b[39m'\u001b[39;49m)\n",
      "\u001b[0;31mTypeError\u001b[0m: welcome() missing 1 required positional argument: 'what'"
     ]
    }
   ],
   "source": [
    "welcome(who='Students')"
   ]
  },
  {
   "attachments": {},
   "cell_type": "markdown",
   "metadata": {},
   "source": [
    "Otherwise, we can define optional parameters which have predefined default values."
   ]
  },
  {
   "cell_type": "code",
   "execution_count": 8,
   "metadata": {},
   "outputs": [
    {
     "name": "stdout",
     "output_type": "stream",
     "text": [
      "Good morning Students of CC4, Welcome to a class on Python\n",
      "Good morning Students of CC4, Welcome to a class on Programming\n"
     ]
    }
   ],
   "source": [
    "def welcome(who,what='Python'):\n",
    "    x='Good morning '+who+', Welcome to a class on '+what\n",
    "    print(x)\n",
    "\n",
    "welcome('Students of CC4')\n",
    "welcome('Students of CC4','Programming')"
   ]
  },
  {
   "attachments": {},
   "cell_type": "markdown",
   "metadata": {},
   "source": [
    "The optional parameters should be after the non-default ones."
   ]
  },
  {
   "cell_type": "code",
   "execution_count": 9,
   "metadata": {},
   "outputs": [
    {
     "ename": "SyntaxError",
     "evalue": "non-default argument follows default argument (1979391543.py, line 1)",
     "output_type": "error",
     "traceback": [
      "\u001b[0;36m  Cell \u001b[0;32mIn[9], line 1\u001b[0;36m\u001b[0m\n\u001b[0;31m    def welcome(what='Python',who):\u001b[0m\n\u001b[0m                              ^\u001b[0m\n\u001b[0;31mSyntaxError\u001b[0m\u001b[0;31m:\u001b[0m non-default argument follows default argument\n"
     ]
    }
   ],
   "source": [
    "def welcome(what='Python',who):\n",
    "    x='Good morning '+who+', Welcome to a class on '+what\n",
    "    print(x)\n",
    "\n",
    "welcome('Students of CC4')\n",
    "welcome('Students of CC4','Programming')"
   ]
  },
  {
   "attachments": {},
   "cell_type": "markdown",
   "metadata": {},
   "source": [
    "If we don't know the number of arguments we can specify `*`. The parameter is stored as a tuple."
   ]
  },
  {
   "cell_type": "code",
   "execution_count": 10,
   "metadata": {},
   "outputs": [
    {
     "name": "stdout",
     "output_type": "stream",
     "text": [
      "(1, 2, 3)\n",
      "1\n",
      "1\n",
      "2\n",
      "3\n"
     ]
    }
   ],
   "source": [
    "def welcome(*x):\n",
    "    print(x)\n",
    "    print(x[0])\n",
    "    for i in x:\n",
    "        print(i)\n",
    "\n",
    "welcome(1,2,3)"
   ]
  },
  {
   "attachments": {},
   "cell_type": "markdown",
   "metadata": {},
   "source": [
    "But we cannot have keyword arguments in that case."
   ]
  },
  {
   "cell_type": "code",
   "execution_count": 11,
   "metadata": {},
   "outputs": [
    {
     "ename": "TypeError",
     "evalue": "welcome() got an unexpected keyword argument 'i'",
     "output_type": "error",
     "traceback": [
      "\u001b[0;31m---------------------------------------------------------------------------\u001b[0m",
      "\u001b[0;31mTypeError\u001b[0m                                 Traceback (most recent call last)",
      "Cell \u001b[0;32mIn[11], line 1\u001b[0m\n\u001b[0;32m----> 1\u001b[0m welcome(i\u001b[39m=\u001b[39;49m\u001b[39m1\u001b[39;49m,j\u001b[39m=\u001b[39;49m\u001b[39m2\u001b[39;49m,k\u001b[39m=\u001b[39;49m\u001b[39m3\u001b[39;49m)\n",
      "\u001b[0;31mTypeError\u001b[0m: welcome() got an unexpected keyword argument 'i'"
     ]
    }
   ],
   "source": [
    "welcome(i=1,j=2,k=3)"
   ]
  },
  {
   "attachments": {},
   "cell_type": "markdown",
   "metadata": {},
   "source": [
    "We use `**` for such cases and the parameter is stored as a dictionary."
   ]
  },
  {
   "cell_type": "code",
   "execution_count": 12,
   "metadata": {},
   "outputs": [
    {
     "name": "stdout",
     "output_type": "stream",
     "text": [
      "{'i': 1, 'j': 2, 'k': 3}\n",
      "1\n"
     ]
    }
   ],
   "source": [
    "def welcome(**x):\n",
    "    print(x)\n",
    "    print(x['i'])\n",
    "\n",
    "welcome(i=1,j=2,k=3)"
   ]
  },
  {
   "attachments": {},
   "cell_type": "markdown",
   "metadata": {},
   "source": [
    "Similarly, we cannot use regular arguments in this case."
   ]
  },
  {
   "cell_type": "code",
   "execution_count": 13,
   "metadata": {},
   "outputs": [
    {
     "ename": "TypeError",
     "evalue": "welcome() takes 0 positional arguments but 3 were given",
     "output_type": "error",
     "traceback": [
      "\u001b[0;31m---------------------------------------------------------------------------\u001b[0m",
      "\u001b[0;31mTypeError\u001b[0m                                 Traceback (most recent call last)",
      "Cell \u001b[0;32mIn[13], line 1\u001b[0m\n\u001b[0;32m----> 1\u001b[0m welcome(\u001b[39m1\u001b[39;49m,\u001b[39m2\u001b[39;49m,\u001b[39m3\u001b[39;49m)\n",
      "\u001b[0;31mTypeError\u001b[0m: welcome() takes 0 positional arguments but 3 were given"
     ]
    }
   ],
   "source": [
    "welcome(1,2,3)"
   ]
  },
  {
   "attachments": {},
   "cell_type": "markdown",
   "metadata": {},
   "source": [
    "### Return\n",
    "Return statements are used to get output from a function."
   ]
  },
  {
   "attachments": {},
   "cell_type": "markdown",
   "metadata": {},
   "source": [
    "By default, functions return None (\"Nothing\")"
   ]
  },
  {
   "cell_type": "code",
   "execution_count": 14,
   "metadata": {},
   "outputs": [
    {
     "name": "stdout",
     "output_type": "stream",
     "text": [
      "Good morning Students, Welcome to a class on Python\n",
      "None <class 'NoneType'>\n"
     ]
    }
   ],
   "source": [
    "def welcome(who,what='Python'):\n",
    "    x='Good morning '+who+', Welcome to a class on '+what\n",
    "    print(x)\n",
    "\n",
    "l=welcome('Students')\n",
    "print(l,type(l))"
   ]
  },
  {
   "attachments": {},
   "cell_type": "markdown",
   "metadata": {},
   "source": [
    "Here, we are outputting the welcome message instead of printing it in the function."
   ]
  },
  {
   "cell_type": "code",
   "execution_count": 15,
   "metadata": {},
   "outputs": [
    {
     "name": "stdout",
     "output_type": "stream",
     "text": [
      "Good morning Students, Welcome to a class on Python\n"
     ]
    }
   ],
   "source": [
    "def welcome(who,what='Python'):\n",
    "    x='Good morning '+who+', Welcome to a class on '+what\n",
    "    return x\n",
    "\n",
    "l=welcome('Students')\n",
    "print(l)"
   ]
  },
  {
   "attachments": {},
   "cell_type": "markdown",
   "metadata": {},
   "source": [
    "Anything after a return statement is not run."
   ]
  },
  {
   "cell_type": "code",
   "execution_count": 16,
   "metadata": {},
   "outputs": [],
   "source": [
    "def welcome(who,what='Python'):\n",
    "    x='Good morning '+who+', Welcome to a class on '+what\n",
    "    return x\n",
    "    print()\n",
    "\n",
    "l=welcome('Students')"
   ]
  },
  {
   "attachments": {},
   "cell_type": "markdown",
   "metadata": {},
   "source": [
    "### Scope"
   ]
  },
  {
   "attachments": {},
   "cell_type": "markdown",
   "metadata": {},
   "source": [
    "Variables outside a function can be used inside a function."
   ]
  },
  {
   "cell_type": "code",
   "execution_count": 17,
   "metadata": {},
   "outputs": [
    {
     "name": "stdout",
     "output_type": "stream",
     "text": [
      "hello\n"
     ]
    }
   ],
   "source": [
    "x='hello'\n",
    "\n",
    "def f():\n",
    "    print(x)\n",
    "\n",
    "f()"
   ]
  },
  {
   "attachments": {},
   "cell_type": "markdown",
   "metadata": {},
   "source": [
    "But the inverse cannot be done. "
   ]
  },
  {
   "cell_type": "code",
   "execution_count": 18,
   "metadata": {},
   "outputs": [
    {
     "ename": "NameError",
     "evalue": "name 'y' is not defined",
     "output_type": "error",
     "traceback": [
      "\u001b[0;31m---------------------------------------------------------------------------\u001b[0m",
      "\u001b[0;31mNameError\u001b[0m                                 Traceback (most recent call last)",
      "Cell \u001b[0;32mIn[18], line 5\u001b[0m\n\u001b[1;32m      2\u001b[0m     y\u001b[39m=\u001b[39m\u001b[39m'\u001b[39m\u001b[39mhello\u001b[39m\u001b[39m'\u001b[39m\n\u001b[1;32m      3\u001b[0m     \u001b[39mprint\u001b[39m(y)\n\u001b[0;32m----> 5\u001b[0m \u001b[39mprint\u001b[39m(y)\n",
      "\u001b[0;31mNameError\u001b[0m: name 'y' is not defined"
     ]
    }
   ],
   "source": [
    "def f():\n",
    "    y='hello'\n",
    "    print(y)\n",
    "\n",
    "print(y)"
   ]
  },
  {
   "attachments": {},
   "cell_type": "markdown",
   "metadata": {},
   "source": [
    "Here, we say that `x` has a \"global scope\" and `y` has a \"local scope\"."
   ]
  },
  {
   "attachments": {},
   "cell_type": "markdown",
   "metadata": {},
   "source": [
    "What about in this case?"
   ]
  },
  {
   "cell_type": "code",
   "execution_count": 19,
   "metadata": {},
   "outputs": [
    {
     "name": "stdout",
     "output_type": "stream",
     "text": [
      "hello\n"
     ]
    }
   ],
   "source": [
    "def f():\n",
    "    y='hello'\n",
    "    def ff():\n",
    "        print(y)\n",
    "    ff()\n",
    "\n",
    "f()"
   ]
  },
  {
   "attachments": {},
   "cell_type": "markdown",
   "metadata": {},
   "source": [
    "Now if we define a new `x` inside the function."
   ]
  },
  {
   "cell_type": "code",
   "execution_count": 20,
   "metadata": {},
   "outputs": [
    {
     "name": "stdout",
     "output_type": "stream",
     "text": [
      "no\n",
      "hello\n"
     ]
    }
   ],
   "source": [
    "x='hello'\n",
    "\n",
    "def f():\n",
    "    x='no'\n",
    "    print(x)\n",
    "\n",
    "f()\n",
    "print(x)"
   ]
  },
  {
   "attachments": {},
   "cell_type": "markdown",
   "metadata": {},
   "source": [
    "`x` now has both \"local\" and \"global\" scope. Whatever change made in the local x is not reflected outside the function."
   ]
  },
  {
   "attachments": {},
   "cell_type": "markdown",
   "metadata": {},
   "source": [
    "When we are passing arguments, it doesn't matter what is in your global. You are basically redefining a new variable in local scope."
   ]
  },
  {
   "cell_type": "code",
   "execution_count": 21,
   "metadata": {},
   "outputs": [
    {
     "name": "stdout",
     "output_type": "stream",
     "text": [
      "hello\n",
      "hello\n"
     ]
    }
   ],
   "source": [
    "x='hello'\n",
    "y='HELLO'\n",
    "\n",
    "def f(y):\n",
    "    print(y)\n",
    "\n",
    "f(x)\n",
    "print(x)"
   ]
  },
  {
   "attachments": {},
   "cell_type": "markdown",
   "metadata": {},
   "source": [
    "When we want to changes inside a function to reflect globally, we use `global`."
   ]
  },
  {
   "cell_type": "code",
   "execution_count": 22,
   "metadata": {},
   "outputs": [
    {
     "name": "stdout",
     "output_type": "stream",
     "text": [
      "no\n",
      "no\n"
     ]
    }
   ],
   "source": [
    "x='hello'\n",
    "\n",
    "def f():\n",
    "    global x\n",
    "    x='no'\n",
    "    print(x)\n",
    "\n",
    "f()\n",
    "print(x)"
   ]
  },
  {
   "attachments": {},
   "cell_type": "markdown",
   "metadata": {},
   "source": [
    "Similarly with lists..."
   ]
  },
  {
   "cell_type": "code",
   "execution_count": 23,
   "metadata": {},
   "outputs": [
    {
     "name": "stdout",
     "output_type": "stream",
     "text": [
      "[0, 2, 3, 4]\n",
      "[1, 2, 3, 4]\n"
     ]
    }
   ],
   "source": [
    "x=[1,2,3,4]\n",
    "\n",
    "def f():\n",
    "    x=[0,2,3,4]\n",
    "    print(x)\n",
    "\n",
    "f()\n",
    "print(x)"
   ]
  },
  {
   "attachments": {},
   "cell_type": "markdown",
   "metadata": {},
   "source": [
    "But lists also have a quirk"
   ]
  },
  {
   "cell_type": "code",
   "execution_count": 24,
   "metadata": {},
   "outputs": [
    {
     "name": "stdout",
     "output_type": "stream",
     "text": [
      "[0, 2, 3, 4]\n",
      "[0, 2, 3, 4]\n"
     ]
    }
   ],
   "source": [
    "x=[1,2,3,4]\n",
    "\n",
    "def f():\n",
    "    x[0]=0\n",
    "    print(x)\n",
    "\n",
    "f()\n",
    "print(x)"
   ]
  },
  {
   "attachments": {},
   "cell_type": "markdown",
   "metadata": {},
   "source": [
    "We cannot use global with parameters tho."
   ]
  },
  {
   "cell_type": "code",
   "execution_count": 25,
   "metadata": {},
   "outputs": [
    {
     "ename": "SyntaxError",
     "evalue": "name 'x' is parameter and global (4108267728.py, line 4)",
     "output_type": "error",
     "traceback": [
      "\u001b[0;36m  Cell \u001b[0;32mIn[25], line 4\u001b[0;36m\u001b[0m\n\u001b[0;31m    global x\u001b[0m\n\u001b[0m    ^\u001b[0m\n\u001b[0;31mSyntaxError\u001b[0m\u001b[0;31m:\u001b[0m name 'x' is parameter and global\n"
     ]
    }
   ],
   "source": [
    "x='hello'\n",
    "\n",
    "def f(x):\n",
    "    global x\n",
    "    x='no'\n",
    "    print(x)\n",
    "\n",
    "f(x)\n",
    "print(x)"
   ]
  },
  {
   "attachments": {},
   "cell_type": "markdown",
   "metadata": {},
   "source": [
    "Instead, we can return the value and reassign it outside the function."
   ]
  },
  {
   "cell_type": "code",
   "execution_count": 26,
   "metadata": {},
   "outputs": [
    {
     "name": "stdout",
     "output_type": "stream",
     "text": [
      "no\n",
      "no\n"
     ]
    }
   ],
   "source": [
    "x='hello'\n",
    "\n",
    "def f(x):\n",
    "    x='no'\n",
    "    print(x)\n",
    "    return x\n",
    "\n",
    "x=f(x)\n",
    "print(x)"
   ]
  },
  {
   "attachments": {},
   "cell_type": "markdown",
   "metadata": {},
   "source": [
    "However, we are still haunted by the quirks of lists."
   ]
  },
  {
   "cell_type": "code",
   "execution_count": 27,
   "metadata": {},
   "outputs": [
    {
     "name": "stdout",
     "output_type": "stream",
     "text": [
      "[0, 2, 3, 4]\n",
      "[0, 2, 3, 4]\n"
     ]
    }
   ],
   "source": [
    "x=[1,2,3,4]\n",
    "\n",
    "def f(x):\n",
    "    x[0]=0\n",
    "    print(x)\n",
    "\n",
    "f(x)\n",
    "print(x)"
   ]
  },
  {
   "attachments": {},
   "cell_type": "markdown",
   "metadata": {},
   "source": [
    "Scope of loops?"
   ]
  },
  {
   "cell_type": "code",
   "execution_count": 28,
   "metadata": {},
   "outputs": [
    {
     "name": "stdout",
     "output_type": "stream",
     "text": [
      "0\n",
      "1\n",
      "2\n",
      "3\n",
      "4\n",
      "5\n",
      "6\n",
      "7\n",
      "8\n",
      "9\n",
      "9\n"
     ]
    }
   ],
   "source": [
    "i=100\n",
    "for i in range(10):\n",
    "    print(i)\n",
    "print(i)"
   ]
  },
  {
   "attachments": {},
   "cell_type": "markdown",
   "metadata": {},
   "source": [
    "### Recursion\n",
    "Recursion is when you call a function inside itself."
   ]
  },
  {
   "attachments": {},
   "cell_type": "markdown",
   "metadata": {},
   "source": [
    "This is an example of an infinite recursion. It is not very useful."
   ]
  },
  {
   "cell_type": "code",
   "execution_count": 29,
   "metadata": {},
   "outputs": [],
   "source": [
    "def inf_rec():\n",
    "    print('hello')\n",
    "    inf_rec()"
   ]
  },
  {
   "attachments": {},
   "cell_type": "markdown",
   "metadata": {},
   "source": [
    "For a finite (good) recursions, we need a base case and parameters have to be updated in each recursion."
   ]
  },
  {
   "cell_type": "code",
   "execution_count": 30,
   "metadata": {},
   "outputs": [
    {
     "data": {
      "text/plain": [
       "55"
      ]
     },
     "execution_count": 30,
     "metadata": {},
     "output_type": "execute_result"
    }
   ],
   "source": [
    "def summation(n):\n",
    "    if (n>0):\n",
    "        return n + summation(n-1)\n",
    "    else:\n",
    "        return 0\n",
    "    \n",
    "summation(10)"
   ]
  },
  {
   "attachments": {},
   "cell_type": "markdown",
   "metadata": {},
   "source": [
    "Fibonacci numbers:\n",
    "$$0, 1, 1, 2, 3, 5, 8, 13, 21, 34, 55, 89, 144$$\n",
    "$$F_n = F_{n-1} + F_{n-2}$$"
   ]
  },
  {
   "cell_type": "code",
   "execution_count": 31,
   "metadata": {},
   "outputs": [
    {
     "name": "stdout",
     "output_type": "stream",
     "text": [
      "[0, 1, 1, 2, 3, 5, 8, 13, 21, 34, 55, 89, 144]\n"
     ]
    }
   ],
   "source": [
    "def fibo(n):\n",
    "    if n in (0, 1):\n",
    "        return n\n",
    "    else:\n",
    "        return fibo(n - 1) + fibo(n - 2)\n",
    "\n",
    "fib_seq = [fibo(i) for i in range(13)]\n",
    "print(fib_seq)"
   ]
  },
  {
   "attachments": {},
   "cell_type": "markdown",
   "metadata": {},
   "source": [
    "Tower of Hanoi:"
   ]
  },
  {
   "cell_type": "code",
   "execution_count": 32,
   "metadata": {},
   "outputs": [
    {
     "name": "stdout",
     "output_type": "stream",
     "text": [
      "1 from A to C\n",
      "2 from A to B\n",
      "1 from C to B\n",
      "3 from A to C\n",
      "1 from B to A\n",
      "2 from B to C\n",
      "1 from A to C\n"
     ]
    }
   ],
   "source": [
    "def ToH(n,source,dest,inter):           \n",
    "    if n == 1:\n",
    "        print(n,'from',source,'to',dest)\n",
    "        return\n",
    "    ToH(n-1, source,inter,dest)\n",
    "    print(n,'from',source,'to',dest)\n",
    "    ToH(n-1,inter,dest,source)\n",
    " \n",
    "ToH(3, 'A', 'C', 'B')"
   ]
  },
  {
   "cell_type": "code",
   "execution_count": null,
   "metadata": {},
   "outputs": [],
   "source": []
  }
 ],
 "metadata": {
  "kernelspec": {
   "display_name": "MSR",
   "language": "python",
   "name": "python3"
  },
  "language_info": {
   "codemirror_mode": {
    "name": "ipython",
    "version": 3
   },
   "file_extension": ".py",
   "mimetype": "text/x-python",
   "name": "python",
   "nbconvert_exporter": "python",
   "pygments_lexer": "ipython3",
   "version": "3.11.1"
  },
  "orig_nbformat": 4,
  "vscode": {
   "interpreter": {
    "hash": "d58490c47f2d70e7dc3e17a1efc5ca3f9b97b287cec78396549ed591aac5e019"
   }
  }
 },
 "nbformat": 4,
 "nbformat_minor": 2
}
