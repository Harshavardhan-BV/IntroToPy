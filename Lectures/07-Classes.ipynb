{
 "cells": [
  {
   "attachments": {},
   "cell_type": "markdown",
   "metadata": {},
   "source": [
    "# Lecture 7\n",
    "## Classes and Object"
   ]
  },
  {
   "attachments": {},
   "cell_type": "markdown",
   "metadata": {},
   "source": [
    "Almost everything in python is an object. Python is primarily an object-oriented programming language, whereas R is mostly a functional programming language."
   ]
  },
  {
   "cell_type": "code",
   "execution_count": 1,
   "metadata": {},
   "outputs": [
    {
     "name": "stdout",
     "output_type": "stream",
     "text": [
      "<class 'int'>\n"
     ]
    }
   ],
   "source": [
    "print(type(1))"
   ]
  },
  {
   "attachments": {},
   "cell_type": "markdown",
   "metadata": {},
   "source": [
    "### Creating Classes\n",
    "\n",
    "Let us define our own class. Classes essentially acts as a blueprint for making objects."
   ]
  },
  {
   "cell_type": "code",
   "execution_count": 2,
   "metadata": {},
   "outputs": [],
   "source": [
    "class NewClass:\n",
    "    pass"
   ]
  },
  {
   "attachments": {},
   "cell_type": "markdown",
   "metadata": {},
   "source": [
    "Object is an instance of a class. Here we create a new instance of `newClass` by assigning a class to a variable."
   ]
  },
  {
   "cell_type": "code",
   "execution_count": 3,
   "metadata": {},
   "outputs": [],
   "source": [
    "y = NewClass()"
   ]
  },
  {
   "attachments": {},
   "cell_type": "markdown",
   "metadata": {},
   "source": [
    "Here `y` is of the type `NewClass`."
   ]
  },
  {
   "cell_type": "code",
   "execution_count": 4,
   "metadata": {},
   "outputs": [
    {
     "data": {
      "text/plain": [
       "__main__.NewClass"
      ]
     },
     "execution_count": 4,
     "metadata": {},
     "output_type": "execute_result"
    }
   ],
   "source": [
    "type(y)"
   ]
  },
  {
   "attachments": {},
   "cell_type": "markdown",
   "metadata": {},
   "source": [
    "We can also import classes from modules"
   ]
  },
  {
   "cell_type": "code",
   "execution_count": 5,
   "metadata": {},
   "outputs": [],
   "source": [
    "from custom_module import AnotherClass"
   ]
  },
  {
   "cell_type": "code",
   "execution_count": 6,
   "metadata": {},
   "outputs": [
    {
     "data": {
      "text/plain": [
       "custom_module.AnotherClass"
      ]
     },
     "execution_count": 6,
     "metadata": {},
     "output_type": "execute_result"
    }
   ],
   "source": [
    "y = AnotherClass()\n",
    "type(y)"
   ]
  },
  {
   "attachments": {},
   "cell_type": "markdown",
   "metadata": {},
   "source": [
    "### Attributes"
   ]
  },
  {
   "attachments": {},
   "cell_type": "markdown",
   "metadata": {},
   "source": [
    "Attribute is a piece of data that is associated with an object. Anything you define inside a class becomes its attribute."
   ]
  },
  {
   "cell_type": "code",
   "execution_count": 7,
   "metadata": {},
   "outputs": [],
   "source": [
    "class NewClass:\n",
    "    x = 1\n",
    "\n",
    "y = NewClass()"
   ]
  },
  {
   "attachments": {},
   "cell_type": "markdown",
   "metadata": {},
   "source": [
    "and these can be access with a dot"
   ]
  },
  {
   "cell_type": "code",
   "execution_count": 8,
   "metadata": {},
   "outputs": [
    {
     "data": {
      "text/plain": [
       "1"
      ]
     },
     "execution_count": 8,
     "metadata": {},
     "output_type": "execute_result"
    }
   ],
   "source": [
    "y.x"
   ]
  },
  {
   "attachments": {},
   "cell_type": "markdown",
   "metadata": {},
   "source": [
    "### Methods"
   ]
  },
  {
   "attachments": {},
   "cell_type": "markdown",
   "metadata": {},
   "source": [
    "We can also define functions in classes. But......"
   ]
  },
  {
   "cell_type": "code",
   "execution_count": 9,
   "metadata": {},
   "outputs": [],
   "source": [
    "class NewClass:\n",
    "    x = 1\n",
    "    def stupid_func():\n",
    "        print('Hello')"
   ]
  },
  {
   "cell_type": "code",
   "execution_count": 10,
   "metadata": {},
   "outputs": [
    {
     "ename": "TypeError",
     "evalue": "NewClass.stupid_func() takes 0 positional arguments but 1 was given",
     "output_type": "error",
     "traceback": [
      "\u001b[0;31m---------------------------------------------------------------------------\u001b[0m",
      "\u001b[0;31mTypeError\u001b[0m                                 Traceback (most recent call last)",
      "Cell \u001b[0;32mIn[10], line 2\u001b[0m\n\u001b[1;32m      1\u001b[0m y \u001b[39m=\u001b[39m NewClass()\n\u001b[0;32m----> 2\u001b[0m y\u001b[39m.\u001b[39;49mstupid_func()\n",
      "\u001b[0;31mTypeError\u001b[0m: NewClass.stupid_func() takes 0 positional arguments but 1 was given"
     ]
    }
   ],
   "source": [
    "y = NewClass()\n",
    "y.stupid_func()"
   ]
  },
  {
   "attachments": {},
   "cell_type": "markdown",
   "metadata": {},
   "source": [
    "the functions in classes always get an instance of the class passed as the 1st argument. These functions are called methods"
   ]
  },
  {
   "cell_type": "code",
   "execution_count": 11,
   "metadata": {},
   "outputs": [],
   "source": [
    "class NewClass:\n",
    "    x = 1\n",
    "    def stupid_func(self):\n",
    "        print('Hello')"
   ]
  },
  {
   "attachments": {},
   "cell_type": "markdown",
   "metadata": {},
   "source": [
    "Scope?"
   ]
  },
  {
   "cell_type": "code",
   "execution_count": 12,
   "metadata": {},
   "outputs": [
    {
     "ename": "NameError",
     "evalue": "name 'x' is not defined",
     "output_type": "error",
     "traceback": [
      "\u001b[0;31m---------------------------------------------------------------------------\u001b[0m",
      "\u001b[0;31mNameError\u001b[0m                                 Traceback (most recent call last)",
      "Cell \u001b[0;32mIn[12], line 7\u001b[0m\n\u001b[1;32m      4\u001b[0m         \u001b[39mprint\u001b[39m(x)\n\u001b[1;32m      6\u001b[0m y \u001b[39m=\u001b[39m NewClass()\n\u001b[0;32m----> 7\u001b[0m y\u001b[39m.\u001b[39;49mprint_x()\n",
      "Cell \u001b[0;32mIn[12], line 4\u001b[0m, in \u001b[0;36mNewClass.print_x\u001b[0;34m(self)\u001b[0m\n\u001b[1;32m      3\u001b[0m \u001b[39mdef\u001b[39;00m \u001b[39mprint_x\u001b[39m(\u001b[39mself\u001b[39m):\n\u001b[0;32m----> 4\u001b[0m     \u001b[39mprint\u001b[39m(x)\n",
      "\u001b[0;31mNameError\u001b[0m: name 'x' is not defined"
     ]
    }
   ],
   "source": [
    "class NewClass:\n",
    "    x = 1\n",
    "    def print_x(self):\n",
    "        print(x)\n",
    "\n",
    "y = NewClass()\n",
    "y.print_x()"
   ]
  },
  {
   "attachments": {},
   "cell_type": "markdown",
   "metadata": {},
   "source": [
    "Remember that you have to access attributes by `.` "
   ]
  },
  {
   "cell_type": "code",
   "execution_count": 13,
   "metadata": {},
   "outputs": [
    {
     "name": "stdout",
     "output_type": "stream",
     "text": [
      "1\n"
     ]
    }
   ],
   "source": [
    "class NewClass:\n",
    "    x = 1\n",
    "    def print_x(self):\n",
    "        print(self.x)\n",
    "\n",
    "y = NewClass()\n",
    "y.print_x()"
   ]
  },
  {
   "attachments": {},
   "cell_type": "markdown",
   "metadata": {},
   "source": [
    "Suppose we want to do something when we initialize an instance of the class, we can use the `__init__` method."
   ]
  },
  {
   "cell_type": "code",
   "execution_count": 14,
   "metadata": {},
   "outputs": [
    {
     "name": "stdout",
     "output_type": "stream",
     "text": [
      "Hello there!\n"
     ]
    }
   ],
   "source": [
    "class NewClass:\n",
    "    x = 1\n",
    "    def __init__(self):\n",
    "        print('Hello there!')\n",
    "\n",
    "y = NewClass()"
   ]
  },
  {
   "attachments": {},
   "cell_type": "markdown",
   "metadata": {},
   "source": [
    "We can also set attributes on initialization with the init method."
   ]
  },
  {
   "cell_type": "code",
   "execution_count": 15,
   "metadata": {},
   "outputs": [],
   "source": [
    "class Instructor:\n",
    "    x=1\n",
    "    def __init__(self,name,email):\n",
    "        self.name=name\n",
    "        self.email=email"
   ]
  },
  {
   "cell_type": "code",
   "execution_count": 16,
   "metadata": {},
   "outputs": [],
   "source": [
    "Harsha = Instructor('Harsha','bharshavardh@iisc.ac.in')"
   ]
  },
  {
   "attachments": {},
   "cell_type": "markdown",
   "metadata": {},
   "source": [
    "and we can see that its attributes have been set."
   ]
  },
  {
   "cell_type": "code",
   "execution_count": 17,
   "metadata": {},
   "outputs": [
    {
     "name": "stdout",
     "output_type": "stream",
     "text": [
      "Harsha\n",
      "bharshavardh@iisc.ac.in\n",
      "1\n"
     ]
    }
   ],
   "source": [
    "print(Harsha.name)\n",
    "print(Harsha.email)\n",
    "print(Harsha.x)\n"
   ]
  },
  {
   "cell_type": "code",
   "execution_count": 18,
   "metadata": {},
   "outputs": [],
   "source": [
    "class Instructor:\n",
    "    def __init__(self,name,email):\n",
    "        self.name=name\n",
    "        self.email=email\n",
    "    def get_name(self):\n",
    "        return self.name\n",
    "    def get_email(self):\n",
    "        return self.email"
   ]
  },
  {
   "attachments": {},
   "cell_type": "markdown",
   "metadata": {},
   "source": [
    "Or we can use methods to access these attributes."
   ]
  },
  {
   "cell_type": "code",
   "execution_count": 19,
   "metadata": {},
   "outputs": [
    {
     "name": "stdout",
     "output_type": "stream",
     "text": [
      "Harshavardhan BV\n",
      "bharshavardh@iisc.ac.in\n"
     ]
    }
   ],
   "source": [
    "Harsha = Instructor('Harshavardhan BV','bharshavardh@iisc.ac.in')\n",
    "print(Harsha.get_name())\n",
    "print(Harsha.get_email())"
   ]
  },
  {
   "attachments": {},
   "cell_type": "markdown",
   "metadata": {},
   "source": [
    "We can change attributes to a new value."
   ]
  },
  {
   "cell_type": "code",
   "execution_count": 20,
   "metadata": {},
   "outputs": [
    {
     "name": "stdout",
     "output_type": "stream",
     "text": [
      "Harshavardhan BV\n",
      "harshavardhan.ss@msruas.ac.in\n"
     ]
    }
   ],
   "source": [
    "Harsha.email='harshavardhan.ss@msruas.ac.in'\n",
    "print(Harsha.get_name())\n",
    "print(Harsha.get_email())"
   ]
  },
  {
   "cell_type": "code",
   "execution_count": 21,
   "metadata": {},
   "outputs": [],
   "source": [
    "class Instructor:\n",
    "    def __init__(self,name,email):\n",
    "        self.name=name\n",
    "        self.email=email\n",
    "    def get_name(self):\n",
    "        return self.name\n",
    "    def get_email(self):\n",
    "        return self.email\n",
    "    def change_email(self,new_mail):\n",
    "        self.email = new_mail"
   ]
  },
  {
   "attachments": {},
   "cell_type": "markdown",
   "metadata": {},
   "source": [
    "Similarly, we can use methods to change the attributes."
   ]
  },
  {
   "cell_type": "code",
   "execution_count": 22,
   "metadata": {},
   "outputs": [
    {
     "name": "stdout",
     "output_type": "stream",
     "text": [
      "harshavardhan.ss@msruas.ac.in\n"
     ]
    }
   ],
   "source": [
    "Harsha = Instructor('Harshavardhan BV','bharshavardh@iisc.ac.in')\n",
    "Harsha.change_email('harshavardhan.ss@msruas.ac.in')\n",
    "print(Harsha.get_email())"
   ]
  },
  {
   "cell_type": "code",
   "execution_count": 23,
   "metadata": {},
   "outputs": [
    {
     "name": "stdout",
     "output_type": "stream",
     "text": [
      "<__main__.Instructor object at 0x7ff9dd6b5690>\n"
     ]
    }
   ],
   "source": [
    "print(Harsha)"
   ]
  },
  {
   "attachments": {},
   "cell_type": "markdown",
   "metadata": {},
   "source": [
    "What if we want to print something else?"
   ]
  },
  {
   "cell_type": "code",
   "execution_count": 24,
   "metadata": {},
   "outputs": [],
   "source": [
    "class Instructor:\n",
    "    def __init__(self,name,email):\n",
    "        self.name=name\n",
    "        self.email=email\n",
    "    def get_name(self):\n",
    "        return self.name\n",
    "    def get_email(self):\n",
    "        return self.email\n",
    "    def change_email(self,new_mail):\n",
    "        self.email = new_mail\n",
    "    def __str__(self):\n",
    "        return self.name\n",
    "    "
   ]
  },
  {
   "attachments": {},
   "cell_type": "markdown",
   "metadata": {},
   "source": [
    "Here, it prints the name of the person."
   ]
  },
  {
   "cell_type": "code",
   "execution_count": 25,
   "metadata": {},
   "outputs": [
    {
     "name": "stdout",
     "output_type": "stream",
     "text": [
      "Harshavardhan BV\n"
     ]
    }
   ],
   "source": [
    "Harsha = Instructor('Harshavardhan BV','bharshavardh@iisc.ac.in')\n",
    "print(Harsha)"
   ]
  },
  {
   "attachments": {},
   "cell_type": "markdown",
   "metadata": {},
   "source": [
    "And we can create another instance of Instructor"
   ]
  },
  {
   "cell_type": "code",
   "execution_count": 26,
   "metadata": {},
   "outputs": [
    {
     "name": "stdout",
     "output_type": "stream",
     "text": [
      "Sarthak Sahoo\n"
     ]
    }
   ],
   "source": [
    "Sarthak = Instructor('Sarthak Sahoo','sarthaksahoo@iisc.ac.in')\n",
    "print(Sarthak)"
   ]
  },
  {
   "attachments": {},
   "cell_type": "markdown",
   "metadata": {},
   "source": [
    "Are operators defined for these"
   ]
  },
  {
   "cell_type": "code",
   "execution_count": 27,
   "metadata": {},
   "outputs": [
    {
     "ename": "TypeError",
     "evalue": "unsupported operand type(s) for +: 'Instructor' and 'Instructor'",
     "output_type": "error",
     "traceback": [
      "\u001b[0;31m---------------------------------------------------------------------------\u001b[0m",
      "\u001b[0;31mTypeError\u001b[0m                                 Traceback (most recent call last)",
      "Cell \u001b[0;32mIn[27], line 1\u001b[0m\n\u001b[0;32m----> 1\u001b[0m Harsha \u001b[39m+\u001b[39;49m Sarthak\n",
      "\u001b[0;31mTypeError\u001b[0m: unsupported operand type(s) for +: 'Instructor' and 'Instructor'"
     ]
    }
   ],
   "source": [
    "Harsha + Sarthak"
   ]
  },
  {
   "attachments": {},
   "cell_type": "markdown",
   "metadata": {},
   "source": [
    "We can use special methods to define what the operators do"
   ]
  },
  {
   "cell_type": "code",
   "execution_count": 28,
   "metadata": {},
   "outputs": [],
   "source": [
    "class Instructor:\n",
    "    def __init__(self,name,email):\n",
    "        self.name=name\n",
    "        self.email=email\n",
    "    def get_name(self):\n",
    "        return self.name\n",
    "    def get_email(self):\n",
    "        return self.email\n",
    "    def change_email(self,new_mail):\n",
    "        self.email = new_mail\n",
    "    def __str__(self):\n",
    "        return self.name\n",
    "    def __add__(self,other):\n",
    "        return self.name + other.name"
   ]
  },
  {
   "cell_type": "code",
   "execution_count": 29,
   "metadata": {},
   "outputs": [
    {
     "data": {
      "text/plain": [
       "'Harshavardhan BVSarthak Sahoo'"
      ]
     },
     "execution_count": 29,
     "metadata": {},
     "output_type": "execute_result"
    }
   ],
   "source": [
    "Harsha = Instructor('Harshavardhan BV','bharshavardh@iisc.ac.in')\n",
    "Sarthak = Instructor('Sarthak Sahoo','sarthaksahoo@iisc.ac.in')\n",
    "Harsha + Sarthak"
   ]
  },
  {
   "attachments": {},
   "cell_type": "markdown",
   "metadata": {},
   "source": [
    "Let's make another class for students"
   ]
  },
  {
   "cell_type": "code",
   "execution_count": 30,
   "metadata": {},
   "outputs": [],
   "source": [
    "class Student:\n",
    "    def __init__(self,name,marks):\n",
    "        self.name=name\n",
    "        self.marks=marks\n",
    "    def get_name(self):\n",
    "        return self.name\n",
    "    def get_marks(self):\n",
    "        return self.marks\n",
    "    def __str__(self):\n",
    "        return self.name"
   ]
  },
  {
   "attachments": {},
   "cell_type": "markdown",
   "metadata": {},
   "source": [
    "And create instances of students"
   ]
  },
  {
   "cell_type": "code",
   "execution_count": 31,
   "metadata": {},
   "outputs": [],
   "source": [
    "Chandan=Student('Chandan D',0)\n",
    "Ansh=Student('Ansh Bharadwaj',100)\n",
    "Ujjwal=Student('Ujjwal Deep',95)"
   ]
  },
  {
   "attachments": {},
   "cell_type": "markdown",
   "metadata": {},
   "source": [
    "And a class for course."
   ]
  },
  {
   "cell_type": "code",
   "execution_count": 32,
   "metadata": {},
   "outputs": [],
   "source": [
    "class Course:\n",
    "    def __init__(self, name):\n",
    "        self.name = name\n",
    "        self.instructors = []\n",
    "        self.students = []\n",
    "    def add_students(self,student):\n",
    "        self.students.append(student)\n"
   ]
  },
  {
   "attachments": {},
   "cell_type": "markdown",
   "metadata": {},
   "source": [
    "Let's create an instance for the python course."
   ]
  },
  {
   "cell_type": "code",
   "execution_count": 33,
   "metadata": {},
   "outputs": [],
   "source": [
    "Python=Course('Programming in Python')"
   ]
  },
  {
   "attachments": {},
   "cell_type": "markdown",
   "metadata": {},
   "source": [
    "And add the students."
   ]
  },
  {
   "cell_type": "code",
   "execution_count": 34,
   "metadata": {},
   "outputs": [],
   "source": [
    "Python.add_students(Chandan)\n",
    "Python.add_students(Ansh)\n",
    "Python.add_students(Ujjwal)\n"
   ]
  },
  {
   "attachments": {},
   "cell_type": "markdown",
   "metadata": {},
   "source": [
    "If we look at the students"
   ]
  },
  {
   "cell_type": "code",
   "execution_count": 35,
   "metadata": {},
   "outputs": [
    {
     "data": {
      "text/plain": [
       "[<__main__.Student at 0x7ff9dd669c10>,\n",
       " <__main__.Student at 0x7ff9dd668f90>,\n",
       " <__main__.Student at 0x7ff9dd668090>]"
      ]
     },
     "execution_count": 35,
     "metadata": {},
     "output_type": "execute_result"
    }
   ],
   "source": [
    "Python.students"
   ]
  },
  {
   "attachments": {},
   "cell_type": "markdown",
   "metadata": {},
   "source": [
    "We can use this to compute the average marks for the course"
   ]
  },
  {
   "cell_type": "code",
   "execution_count": 36,
   "metadata": {},
   "outputs": [],
   "source": [
    "class Course:\n",
    "    def __init__(self, name):\n",
    "        self.name = name\n",
    "        self.instructors = []\n",
    "        self.students = []\n",
    "    def add_students(self,student):\n",
    "        self.students.append(student)\n",
    "    def avg_marks(self):\n",
    "        marks=0\n",
    "        for stud in self.students:\n",
    "            marks+=stud.get_marks()\n",
    "        marks/=len(self.students)\n",
    "        return marks"
   ]
  },
  {
   "cell_type": "code",
   "execution_count": 37,
   "metadata": {},
   "outputs": [],
   "source": [
    "Python=Course('Programming in Python')\n",
    "Python.add_students(Chandan)\n",
    "Python.add_students(Ansh)\n",
    "Python.add_students(Ujjwal)"
   ]
  },
  {
   "cell_type": "code",
   "execution_count": 38,
   "metadata": {},
   "outputs": [
    {
     "data": {
      "text/plain": [
       "65.0"
      ]
     },
     "execution_count": 38,
     "metadata": {},
     "output_type": "execute_result"
    }
   ],
   "source": [
    "Python.avg_marks()"
   ]
  },
  {
   "attachments": {},
   "cell_type": "markdown",
   "metadata": {},
   "source": [
    "### Inheritance"
   ]
  },
  {
   "attachments": {},
   "cell_type": "markdown",
   "metadata": {},
   "source": [
    "Suppose we define a class and want to reuse things in it for another class."
   ]
  },
  {
   "cell_type": "code",
   "execution_count": 39,
   "metadata": {},
   "outputs": [],
   "source": [
    "class Human:\n",
    "    def __init__(self,name):\n",
    "        self.name=name\n",
    "    def get_name(self):\n",
    "        return self.name\n",
    "    def __str__(self):\n",
    "        return self.name"
   ]
  },
  {
   "attachments": {},
   "cell_type": "markdown",
   "metadata": {},
   "source": [
    "We can define a sub-class which \"inherits\" the things from the parent class"
   ]
  },
  {
   "cell_type": "code",
   "execution_count": 40,
   "metadata": {},
   "outputs": [],
   "source": [
    "class Student(Human):\n",
    "    def __init__(self, name, marks):\n",
    "        self.name=name\n",
    "        self.marks=marks\n",
    "    def get_marks(self):\n",
    "        return self.marks"
   ]
  },
  {
   "cell_type": "code",
   "execution_count": 41,
   "metadata": {},
   "outputs": [],
   "source": [
    "Chandan=Student('Chandan D',0)\n",
    "Ansh=Student('Ansh Bharadwaj',100)\n",
    "Ujjwal=Student('Ujjwal Deep',95)"
   ]
  },
  {
   "attachments": {},
   "cell_type": "markdown",
   "metadata": {},
   "source": [
    "We can use the methods we defined in Student class"
   ]
  },
  {
   "cell_type": "code",
   "execution_count": 42,
   "metadata": {},
   "outputs": [
    {
     "name": "stdout",
     "output_type": "stream",
     "text": [
      "0\n"
     ]
    }
   ],
   "source": [
    "print(Chandan.get_marks())"
   ]
  },
  {
   "attachments": {},
   "cell_type": "markdown",
   "metadata": {},
   "source": [
    "As well as those defined in the Human class"
   ]
  },
  {
   "cell_type": "code",
   "execution_count": 43,
   "metadata": {},
   "outputs": [
    {
     "name": "stdout",
     "output_type": "stream",
     "text": [
      "Chandan D\n"
     ]
    }
   ],
   "source": [
    "print(Chandan.get_name())"
   ]
  },
  {
   "attachments": {},
   "cell_type": "markdown",
   "metadata": {},
   "source": [
    "Instead we can use the `__init__` method from the parent class with super."
   ]
  },
  {
   "cell_type": "code",
   "execution_count": 44,
   "metadata": {},
   "outputs": [],
   "source": [
    "class Student(Human):\n",
    "    def __init__(self, name, marks):\n",
    "        super().__init__(name)\n",
    "        self.marks=marks\n",
    "    def get_marks(self):\n",
    "        return self.email"
   ]
  },
  {
   "cell_type": "code",
   "execution_count": 45,
   "metadata": {},
   "outputs": [],
   "source": [
    "Chandan=Student('Chandan D',0)\n",
    "Ansh=Student('Ansh Bharadwaj',100)\n",
    "Ujjwal=Student('Ujjwal Deep',95)"
   ]
  },
  {
   "cell_type": "code",
   "execution_count": 46,
   "metadata": {},
   "outputs": [
    {
     "data": {
      "text/plain": [
       "'Ujjwal Deep'"
      ]
     },
     "execution_count": 46,
     "metadata": {},
     "output_type": "execute_result"
    }
   ],
   "source": [
    "Ujjwal.get_name()"
   ]
  },
  {
   "attachments": {},
   "cell_type": "markdown",
   "metadata": {},
   "source": [
    "Similarly, we can do the same for the instructors"
   ]
  },
  {
   "cell_type": "code",
   "execution_count": 47,
   "metadata": {},
   "outputs": [],
   "source": [
    "class Instructor(Human):\n",
    "    def __init__(self, name,email):\n",
    "        super().__init__(name)\n",
    "        self.email=email\n",
    "    def get_email(self):\n",
    "        return self.email"
   ]
  },
  {
   "cell_type": "code",
   "execution_count": 48,
   "metadata": {},
   "outputs": [
    {
     "name": "stdout",
     "output_type": "stream",
     "text": [
      "Harshavardhan BV\n",
      "bharshavardh@iisc.ac.in\n"
     ]
    }
   ],
   "source": [
    "Harsha = Instructor('Harshavardhan BV','bharshavardh@iisc.ac.in')\n",
    "print(Harsha.get_name())\n",
    "print(Harsha.get_email())"
   ]
  },
  {
   "attachments": {},
   "cell_type": "markdown",
   "metadata": {},
   "source": [
    "Suppose we change the methods defined in the parent class."
   ]
  },
  {
   "cell_type": "code",
   "execution_count": 49,
   "metadata": {},
   "outputs": [],
   "source": [
    "class Instructor(Human):\n",
    "    def __init__(self, name,email):\n",
    "        super().__init__(name)\n",
    "        self.email=email\n",
    "    def get_name(self):\n",
    "        return 'REDACTED'\n",
    "    def get_email(self):\n",
    "        return self.email"
   ]
  },
  {
   "attachments": {},
   "cell_type": "markdown",
   "metadata": {},
   "source": [
    "The new method is used."
   ]
  },
  {
   "cell_type": "code",
   "execution_count": 50,
   "metadata": {},
   "outputs": [
    {
     "name": "stdout",
     "output_type": "stream",
     "text": [
      "REDACTED\n",
      "bharshavardh@iisc.ac.in\n"
     ]
    }
   ],
   "source": [
    "Harsha = Instructor('Harshavardhan BV','bharshavardh@iisc.ac.in')\n",
    "print(Harsha.get_name())\n",
    "print(Harsha.get_email())"
   ]
  },
  {
   "attachments": {},
   "cell_type": "markdown",
   "metadata": {},
   "source": [
    "### Making datastructures"
   ]
  },
  {
   "attachments": {},
   "cell_type": "markdown",
   "metadata": {},
   "source": [
    "Stack: LIFO\n",
    "\n",
    "Queue: FIFO"
   ]
  },
  {
   "cell_type": "code",
   "execution_count": 51,
   "metadata": {},
   "outputs": [],
   "source": [
    "class Stack:\n",
    "    def __init__(self):\n",
    "        self.stack = []\n",
    "    def add(self, item):\n",
    "        self.stack.append(item)\n",
    "    def remove(self):\n",
    "        if len(self.stack) < 1:\n",
    "            return None\n",
    "        return self.stack.pop()\n",
    "    def size(self):\n",
    "        return len(self.stack)\n",
    "    def __str__(self):\n",
    "        return str(self.stack)"
   ]
  },
  {
   "cell_type": "code",
   "execution_count": 52,
   "metadata": {},
   "outputs": [],
   "source": [
    "class Queue:\n",
    "    def __init__(self):\n",
    "        self.queue = []\n",
    "    def add(self, item):\n",
    "        self.queue.append(item)\n",
    "    def remove(self):\n",
    "        if len(self.queue) < 1:\n",
    "            return None\n",
    "        else:\n",
    "            return self.queue.pop(0)\n",
    "    def size(self):\n",
    "        return len(self.queue)\n",
    "    def __str__(self):\n",
    "        return str(self.queue)"
   ]
  },
  {
   "cell_type": "code",
   "execution_count": 53,
   "metadata": {},
   "outputs": [],
   "source": [
    "s = Stack()\n",
    "q = Queue()"
   ]
  },
  {
   "attachments": {},
   "cell_type": "markdown",
   "metadata": {},
   "source": [
    "Let's add elements to them."
   ]
  },
  {
   "cell_type": "code",
   "execution_count": 54,
   "metadata": {},
   "outputs": [
    {
     "name": "stdout",
     "output_type": "stream",
     "text": [
      "[0] [0]\n",
      "[0, 1] [0, 1]\n",
      "[0, 1, 2] [0, 1, 2]\n",
      "[0, 1, 2, 3] [0, 1, 2, 3]\n",
      "[0, 1, 2, 3, 4] [0, 1, 2, 3, 4]\n"
     ]
    }
   ],
   "source": [
    "for i in range(5):\n",
    "    s.add(i)\n",
    "    q.add(i)\n",
    "    print(s,q)"
   ]
  },
  {
   "attachments": {},
   "cell_type": "markdown",
   "metadata": {},
   "source": [
    "And remove the elements."
   ]
  },
  {
   "cell_type": "code",
   "execution_count": 55,
   "metadata": {},
   "outputs": [
    {
     "name": "stdout",
     "output_type": "stream",
     "text": [
      "[0, 1, 2, 3] [1, 2, 3, 4]\n",
      "[0, 1, 2] [2, 3, 4]\n",
      "[0, 1] [3, 4]\n",
      "[0] [4]\n",
      "[] []\n"
     ]
    }
   ],
   "source": [
    "for i in range(5):\n",
    "    s.remove()\n",
    "    q.remove()\n",
    "    print(s,q)"
   ]
  },
  {
   "cell_type": "code",
   "execution_count": 56,
   "metadata": {},
   "outputs": [],
   "source": [
    "class Cart2D:\n",
    "    def __init__(self,x,y):\n",
    "        self.x=x\n",
    "        self.y=y\n",
    "    def __add__(self,other):\n",
    "        return Cart2D(self.x+other.x, self.y+other.y)\n",
    "    def __sub__(self,other):\n",
    "        return Cart2D(self.x-other.x, self.y-other.y)\n",
    "    def __mul__(self, other):\n",
    "        return self.x*other.x + self.y*other.y\n",
    "    def __eq__(self,other):\n",
    "        return self.x==other.x and self.y==other.y\n",
    "    def d_to_o(self):\n",
    "        return ((self.x ** 2) + (self.y ** 2)) ** 0.5\n",
    "    def d_to_p(self, other):\n",
    "        dx=self.x-other.x\n",
    "        dy=self.y-other.y\n",
    "        return ((dx ** 2) + (dy ** 2)) ** 0.5\n",
    "    def __str__(self):\n",
    "        return f\"({self.x}, {self.y})\""
   ]
  },
  {
   "cell_type": "code",
   "execution_count": 57,
   "metadata": {},
   "outputs": [],
   "source": [
    "p1 = Cart2D(1,1)\n",
    "p2 = Cart2D(2,5)"
   ]
  },
  {
   "attachments": {},
   "cell_type": "markdown",
   "metadata": {},
   "source": [
    "We can print the distances between to points to origin as well as between each other."
   ]
  },
  {
   "cell_type": "code",
   "execution_count": 58,
   "metadata": {},
   "outputs": [
    {
     "name": "stdout",
     "output_type": "stream",
     "text": [
      "1.4142135623730951\n",
      "5.385164807134504\n",
      "4.123105625617661\n"
     ]
    }
   ],
   "source": [
    "print(p1.d_to_o())\n",
    "print(p2.d_to_o())\n",
    "print(p1.d_to_p(p2))"
   ]
  },
  {
   "attachments": {},
   "cell_type": "markdown",
   "metadata": {},
   "source": [
    "And perform each of the operations."
   ]
  },
  {
   "cell_type": "code",
   "execution_count": 59,
   "metadata": {},
   "outputs": [
    {
     "name": "stdout",
     "output_type": "stream",
     "text": [
      "(3, 6)\n",
      "(-1, -4)\n",
      "False\n",
      "7\n"
     ]
    }
   ],
   "source": [
    "print(p1+p2)\n",
    "print(p1-p2)\n",
    "print(p1==p2)\n",
    "print(p1*p2)"
   ]
  },
  {
   "cell_type": "code",
   "execution_count": null,
   "metadata": {},
   "outputs": [],
   "source": []
  }
 ],
 "metadata": {
  "kernelspec": {
   "display_name": "MSR",
   "language": "python",
   "name": "python3"
  },
  "language_info": {
   "codemirror_mode": {
    "name": "ipython",
    "version": 3
   },
   "file_extension": ".py",
   "mimetype": "text/x-python",
   "name": "python",
   "nbconvert_exporter": "python",
   "pygments_lexer": "ipython3",
   "version": "3.11.1"
  },
  "orig_nbformat": 4,
  "vscode": {
   "interpreter": {
    "hash": "d58490c47f2d70e7dc3e17a1efc5ca3f9b97b287cec78396549ed591aac5e019"
   }
  }
 },
 "nbformat": 4,
 "nbformat_minor": 2
}
